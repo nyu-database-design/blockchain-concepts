{
 "cells": [
  {
   "cell_type": "markdown",
   "metadata": {},
   "source": [
    "# Hashes\n",
    "Illustrations of the cryptographic concept of hashing, primarily using the [hashlib](https://docs.python.org/3/library/hashlib.html) module."
   ]
  },
  {
   "cell_type": "markdown",
   "metadata": {},
   "source": [
    "## Import useful modules"
   ]
  },
  {
   "cell_type": "code",
   "execution_count": 33,
   "metadata": {},
   "outputs": [],
   "source": [
    "import hashlib\n",
    "\n",
    "from IPython.display import display"
   ]
  },
  {
   "cell_type": "markdown",
   "metadata": {},
   "source": [
    "## Create a digest of a message\n",
    "Create a hash - a fixed-length 'digest' - from a variable-length string input.  "
   ]
  },
  {
   "cell_type": "code",
   "execution_count": 34,
   "metadata": {},
   "outputs": [
    {
     "data": {
      "text/plain": [
       "'0796db49351ec5a893e6db4c0ac268cf431c58cdd6ebb7fbb7c6fdb2083b01f5'"
      ]
     },
     "execution_count": 34,
     "metadata": {},
     "output_type": "execute_result"
    }
   ],
   "source": [
    "text = \"In spite of all their friends could say, on a winter's morn, on a stormy day, in a Sieve they went to sea!\"\n",
    "text = text.encode('utf-8') # encode the string\n",
    "hash = hashlib.sha256( text ).hexdigest()\n",
    "hash"
   ]
  },
  {
   "cell_type": "markdown",
   "metadata": {},
   "source": [
    "Hashing the same text will always produce the same hash."
   ]
  },
  {
   "cell_type": "code",
   "execution_count": 35,
   "metadata": {},
   "outputs": [
    {
     "data": {
      "text/plain": [
       "'0796db49351ec5a893e6db4c0ac268cf431c58cdd6ebb7fbb7c6fdb2083b01f5'"
      ]
     },
     "metadata": {},
     "output_type": "display_data"
    },
    {
     "data": {
      "text/plain": [
       "'0796db49351ec5a893e6db4c0ac268cf431c58cdd6ebb7fbb7c6fdb2083b01f5'"
      ]
     },
     "metadata": {},
     "output_type": "display_data"
    },
    {
     "data": {
      "text/plain": [
       "'0796db49351ec5a893e6db4c0ac268cf431c58cdd6ebb7fbb7c6fdb2083b01f5'"
      ]
     },
     "metadata": {},
     "output_type": "display_data"
    },
    {
     "data": {
      "text/plain": [
       "'0796db49351ec5a893e6db4c0ac268cf431c58cdd6ebb7fbb7c6fdb2083b01f5'"
      ]
     },
     "metadata": {},
     "output_type": "display_data"
    },
    {
     "data": {
      "text/plain": [
       "'0796db49351ec5a893e6db4c0ac268cf431c58cdd6ebb7fbb7c6fdb2083b01f5'"
      ]
     },
     "metadata": {},
     "output_type": "display_data"
    }
   ],
   "source": [
    "for i in range (5):\n",
    "    hash = hashlib.sha256( text ).hexdigest()\n",
    "    display(hash)"
   ]
  },
  {
   "cell_type": "markdown",
   "metadata": {},
   "source": [
    "## Add a nonce"
   ]
  },
  {
   "cell_type": "markdown",
   "metadata": {},
   "source": [
    "We can add in a **nonce** - additives that change the input such that it produces a different hash than the original input.  Here we hash the same input with `10` different nonces to show the difference."
   ]
  },
  {
   "cell_type": "code",
   "execution_count": 36,
   "metadata": {},
   "outputs": [
    {
     "data": {
      "text/plain": [
       "'4047ed58c33bb585fbea6e67a31dd0da427d29a9925040ba52b85b8c6028c29a'"
      ]
     },
     "metadata": {},
     "output_type": "display_data"
    },
    {
     "data": {
      "text/plain": [
       "'0410ccbdd436c8ebe7eedd8596072580e376491a2b40c953b9281572c21fd432'"
      ]
     },
     "metadata": {},
     "output_type": "display_data"
    },
    {
     "data": {
      "text/plain": [
       "'d3eb2ce57ab48ef65b3f0098e748b85fa4b791c58147feb36658018a41220833'"
      ]
     },
     "metadata": {},
     "output_type": "display_data"
    },
    {
     "data": {
      "text/plain": [
       "'8bfb0ac1f1ed32cb6d5a0cd508b66329a5d08a25a2a317739027ad2a8ace550a'"
      ]
     },
     "metadata": {},
     "output_type": "display_data"
    },
    {
     "data": {
      "text/plain": [
       "'7f2da09be790dd7e63d0f6df406a3443bd2dfddd6d763f3c323146f2d5dee0df'"
      ]
     },
     "metadata": {},
     "output_type": "display_data"
    }
   ],
   "source": [
    "# loop 10 times\n",
    "for i in range( 5 ):\n",
    "    # use the loop counter as the nonce\n",
    "    nonce = str(i).encode('utf-8')\n",
    "    # hash using the nonce\n",
    "    hash = hashlib.sha256( text + nonce ).hexdigest()\n",
    "    display( hash )"
   ]
  },
  {
   "cell_type": "markdown",
   "metadata": {},
   "source": [
    "## Mining\n",
    "There is no way to predict what a hash of any input will be.  Let's try to find a hash that starts with seven zeros, by brute force... this might take a while!"
   ]
  },
  {
   "cell_type": "code",
   "execution_count": 40,
   "metadata": {},
   "outputs": [
    {
     "ename": "KeyboardInterrupt",
     "evalue": "",
     "output_type": "error",
     "traceback": [
      "\u001b[0;31m---------------------------------------------------------------------------\u001b[0m",
      "\u001b[0;31mKeyboardInterrupt\u001b[0m                         Traceback (most recent call last)",
      "\u001b[0;32m<ipython-input-40-6b2cca3704fe>\u001b[0m in \u001b[0;36m<module>\u001b[0;34m\u001b[0m\n\u001b[1;32m      3\u001b[0m \u001b[0;32mwhile\u001b[0m \u001b[0;32mTrue\u001b[0m\u001b[0;34m:\u001b[0m\u001b[0;34m\u001b[0m\u001b[0;34m\u001b[0m\u001b[0m\n\u001b[1;32m      4\u001b[0m     \u001b[0;31m# use the loop counter as the nonce\u001b[0m\u001b[0;34m\u001b[0m\u001b[0;34m\u001b[0m\u001b[0;34m\u001b[0m\u001b[0m\n\u001b[0;32m----> 5\u001b[0;31m     \u001b[0mnonce\u001b[0m \u001b[0;34m=\u001b[0m \u001b[0mstr\u001b[0m\u001b[0;34m(\u001b[0m\u001b[0mi\u001b[0m\u001b[0;34m)\u001b[0m\u001b[0;34m.\u001b[0m\u001b[0mencode\u001b[0m\u001b[0;34m(\u001b[0m\u001b[0;34m'utf-8'\u001b[0m\u001b[0;34m)\u001b[0m\u001b[0;34m\u001b[0m\u001b[0;34m\u001b[0m\u001b[0m\n\u001b[0m\u001b[1;32m      6\u001b[0m     \u001b[0;31m# hash using the nonce\u001b[0m\u001b[0;34m\u001b[0m\u001b[0;34m\u001b[0m\u001b[0;34m\u001b[0m\u001b[0m\n\u001b[1;32m      7\u001b[0m     \u001b[0mhash\u001b[0m \u001b[0;34m=\u001b[0m \u001b[0mhashlib\u001b[0m\u001b[0;34m.\u001b[0m\u001b[0msha256\u001b[0m\u001b[0;34m(\u001b[0m \u001b[0mtext\u001b[0m \u001b[0;34m+\u001b[0m \u001b[0mnonce\u001b[0m \u001b[0;34m)\u001b[0m\u001b[0;34m.\u001b[0m\u001b[0mhexdigest\u001b[0m\u001b[0;34m(\u001b[0m\u001b[0;34m)\u001b[0m\u001b[0;34m\u001b[0m\u001b[0;34m\u001b[0m\u001b[0m\n",
      "\u001b[0;31mKeyboardInterrupt\u001b[0m: "
     ]
    }
   ],
   "source": [
    "# loop indefinitely\n",
    "i = 0\n",
    "while True:\n",
    "    # use the loop counter as the nonce\n",
    "    nonce = str(i).encode('utf-8')\n",
    "    # hash using the nonce\n",
    "    hash = hashlib.sha256( text + nonce ).hexdigest()\n",
    "    # display( hash )\n",
    "    \n",
    "    # check whether the hash starts two zeros\n",
    "    if hash[0:7] == '0000000':\n",
    "        display('Found it on the {}th iteration!'.format(i))\n",
    "        display( hash )\n",
    "        break\n",
    "    \n",
    "    # increment the counter\n",
    "    i += 1"
   ]
  },
  {
   "cell_type": "markdown",
   "metadata": {},
   "source": [
    "This process of trying to find a hash that meets specific critieria by **brute force** — adding different nonces until one that produces a hash meeting the specified criteria is found — is known as **mining** in the world of blockchain-based cryptocurrencies."
   ]
  },
  {
   "cell_type": "markdown",
   "metadata": {},
   "source": [
    "## Proof of work\n",
    "Once a good nonce is found, the nonce and the message can be published together to show proof that the publisher did the brute force computational work necessary to discover a good nonce.  This is known as **proof of work**.\n",
    "\n",
    "One early use of proof of work in 2002 was [HashCash](https://en.wikipedia.org/wiki/Hashcash#cite_note-Hashcash-2), which tried to solve the email spam pandemic by requiring email senders to include a nonce with their email messages.  The hash of the nonce and the message together would be required to meet specific criteria.  Including these nonces as proof of work would show that the sender had expended significant computational power to discover a nonce meeting specific requirements.  Due to the cost (i.e. time and money) of computing these nonces, this would disincentivize spammers from sending out mass mailing blasts."
   ]
  }
 ],
 "metadata": {
  "kernelspec": {
   "display_name": "Python 3",
   "language": "python",
   "name": "python3"
  },
  "language_info": {
   "codemirror_mode": {
    "name": "ipython",
    "version": 3
   },
   "file_extension": ".py",
   "mimetype": "text/x-python",
   "name": "python",
   "nbconvert_exporter": "python",
   "pygments_lexer": "ipython3",
   "version": "3.8.5"
  }
 },
 "nbformat": 4,
 "nbformat_minor": 4
}
